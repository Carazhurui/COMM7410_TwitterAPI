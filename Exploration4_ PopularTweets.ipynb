{
 "cells": [
  {
   "cell_type": "code",
   "execution_count": 1,
   "metadata": {},
   "outputs": [],
   "source": [
    "import numpy as np\n",
    "import pandas as pd\n",
    "%matplotlib inline"
   ]
  },
  {
   "cell_type": "code",
   "execution_count": null,
   "metadata": {
    "scrolled": true
   },
   "outputs": [],
   "source": [
    "df=pd.read_csv('../#HIV_data.csv',encoding='iso-8859-1')\n",
    "df # check the attributes of the dataset and see what might be useful"
   ]
  },
  {
   "cell_type": "code",
   "execution_count": null,
   "metadata": {
    "scrolled": true
   },
   "outputs": [],
   "source": [
    "df.info()"
   ]
  },
  {
   "cell_type": "markdown",
   "metadata": {},
   "source": [
    "## Exploration 4: popular tweets\n",
    "  Here we measure the __popularity__ of a tweet by its __'favourite count'__ and __'retweet count'__ "
   ]
  },
  {
   "cell_type": "code",
   "execution_count": null,
   "metadata": {},
   "outputs": [],
   "source": [
    "#select columns we need and set them as a new dataframe\n",
    "\n",
    "dataset_dict = {'User name':df['screen_name'],\n",
    "        'Text':df['text'],\n",
    "        'Favourite count':df['favorite_count'],\n",
    "        'Retweet count':df['retweet_count'],\n",
    "               }\n",
    "\n",
    "dataset = pd.DataFrame.from_dict(dataset_dict,orient='index').transpose()"
   ]
  },
  {
   "cell_type": "code",
   "execution_count": null,
   "metadata": {
    "scrolled": true
   },
   "outputs": [],
   "source": [
    "dataset"
   ]
  },
  {
   "cell_type": "code",
   "execution_count": null,
   "metadata": {},
   "outputs": [],
   "source": [
    "#sort by 'Retweet count'\n",
    "\n",
    "rt_sorted = dataset.sort_values(by='Retweet count',ascending=False) \n",
    "\n",
    "#select the top 10 tweets\n",
    "rt_top10 = rt_sorted.iloc[:10]\n",
    "rt_top10_text = rt_top10['Text'].to_list()\n",
    "\n",
    "for i in range(0,10):\n",
    "    print('Most Retweeted Tweets - ',i+1,':')\n",
    "    print(rt_top10_text[i],'\\n')"
   ]
  },
  {
   "cell_type": "code",
   "execution_count": null,
   "metadata": {},
   "outputs": [],
   "source": [
    "# sort by 'Favouite count'\n",
    "fl_sorted = dataset.sort_values(by='Favourite count', ascending = False)\n",
    "\n",
    "# #select the top 10 tweets\n",
    "fl_top10 = fl_sorted.iloc[:10]\n",
    "fl_top10_text = fl_top10['Text'].to_list()\n",
    "\n",
    "for i in range(0,10):\n",
    "    print('Most Favorited Tweets - ',i+1,':')\n",
    "    print(fl_top10_text[i],'\\n')"
   ]
  },
  {
   "cell_type": "code",
   "execution_count": null,
   "metadata": {
    "scrolled": true
   },
   "outputs": [],
   "source": [
    "# find tweets appear in both lists\n",
    "\n",
    "pop_user = []\n",
    "pop_text = []\n",
    "\n",
    "for rt_text in rt_top10_text:\n",
    "    if rt_text in fl_top10_text:\n",
    "        print('- User - ', '\\n' + fl_sorted['User name'][fl_top10_text.index(rt_text)],'\\n')\n",
    "        print('- Text - ', '\\n' + rt_text)\n",
    "        pop_user.append(fl_sorted['User name'][fl_top10_text.index(rt_text)])\n",
    "        pop_text.append(rt_text)\n",
    "        print('------------------------')"
   ]
  },
  {
   "cell_type": "code",
   "execution_count": null,
   "metadata": {},
   "outputs": [],
   "source": [
    "pop_dict = {'User name': pop_user,\n",
    "            'Text': pop_text}\n",
    "\n",
    "pop_frame = pd.DataFrame(pop_dict)\n",
    "pop_frame"
   ]
  },
  {
   "cell_type": "code",
   "execution_count": null,
   "metadata": {},
   "outputs": [],
   "source": [
    "pop_frame.to_csv('popular tweets.csv',encoding='iso-8859-1' )"
   ]
  },
  {
   "cell_type": "markdown",
   "metadata": {},
   "source": []
  },
  {
   "cell_type": "code",
   "execution_count": null,
   "metadata": {},
   "outputs": [],
   "source": []
  },
  {
   "cell_type": "code",
   "execution_count": null,
   "metadata": {},
   "outputs": [],
   "source": []
  }
 ],
 "metadata": {
  "kernelspec": {
   "display_name": "Python 3",
   "language": "python",
   "name": "python3"
  },
  "language_info": {
   "codemirror_mode": {
    "name": "ipython",
    "version": 3
   },
   "file_extension": ".py",
   "mimetype": "text/x-python",
   "name": "python",
   "nbconvert_exporter": "python",
   "pygments_lexer": "ipython3",
   "version": "3.7.3"
  }
 },
 "nbformat": 4,
 "nbformat_minor": 2
}
